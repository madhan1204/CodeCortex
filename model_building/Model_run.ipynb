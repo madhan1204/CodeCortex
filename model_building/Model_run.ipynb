{
 "cells": [
  {
   "cell_type": "code",
   "execution_count": 32,
   "id": "e56f0b85-ed03-454b-990f-4509854673a6",
   "metadata": {},
   "outputs": [
    {
     "name": "stdout",
     "output_type": "stream",
     "text": [
      "Prediction Data:\n",
      "   CH Load      RT       GPM  DeltaCHW    CHWS    CHWR\n",
      "0  322.587  55.018  1370.673     5.648  46.465  52.113\n",
      "1  244.106  45.280  1337.442     4.381  47.156  51.537\n",
      "2  270.549  43.106  1346.849     4.821  46.985  51.806\n"
     ]
    }
   ],
   "source": [
    "import joblib\n",
    "import pandas as pd\n",
    "import numpy as np\n",
    "\n",
    "# Load the saved model\n",
    "model_filename = 'random_forest_model.pkl'\n",
    "rf_loaded = joblib.load(model_filename)\n",
    "\n",
    "# Load the new data\n",
    "new_data = pd.read_csv('testmodel.csv')\n",
    "\n",
    "# Drop the target columns from new_data\n",
    "new_x = new_data.drop(columns=['CH Load', 'RT', 'GPM', 'DeltaCHW', 'CHWS', 'CHWR'])\n",
    "\n",
    "# Ensure the feature names and order match the ones used during model training\n",
    "# Get the feature names used during training\n",
    "trained_features = rf_loaded.feature_names_in_\n",
    "\n",
    "# Reorder the columns in new_x to match the trained feature names\n",
    "new_x = new_x[trained_features]\n",
    "\n",
    "# Now predict using the model\n",
    "predictions = rf_loaded.predict(new_x)\n",
    "\n",
    "# Custom headers for predictions\n",
    "custom_headers = ['CH Load', 'RT', 'GPM', 'DeltaCHW', 'CHWS', 'CHWR']\n",
    "\n",
    "# Convert predictions to DataFrame\n",
    "predictions_df = pd.DataFrame(predictions, columns=custom_headers)\n",
    "\n",
    "# Display the results\n",
    "print(\"Prediction Data:\")\n",
    "print(predictions_df)\n",
    "\n"
   ]
  },
  {
   "cell_type": "code",
   "execution_count": null,
   "id": "032b13ab-d3e6-45e0-a8d7-ae80609b42fc",
   "metadata": {},
   "outputs": [],
   "source": []
  }
 ],
 "metadata": {
  "kernelspec": {
   "display_name": "Python 3 (ipykernel)",
   "language": "python",
   "name": "python3"
  },
  "language_info": {
   "codemirror_mode": {
    "name": "ipython",
    "version": 3
   },
   "file_extension": ".py",
   "mimetype": "text/x-python",
   "name": "python",
   "nbconvert_exporter": "python",
   "pygments_lexer": "ipython3",
   "version": "3.11.5"
  }
 },
 "nbformat": 4,
 "nbformat_minor": 5
}
